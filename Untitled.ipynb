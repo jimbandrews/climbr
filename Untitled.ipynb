{
 "cells": [
  {
   "cell_type": "code",
   "execution_count": 1,
   "id": "790f679f",
   "metadata": {},
   "outputs": [],
   "source": [
    "from bs4 import BeautifulSoup\n",
    "import requests"
   ]
  },
  {
   "cell_type": "code",
   "execution_count": 2,
   "id": "249152b6",
   "metadata": {},
   "outputs": [],
   "source": [
    "html_request = requests.get('https://www.indoorclimbing.com/worldgyms.html')\n",
    "html_doc = html_request.text\n",
    "soup = BeautifulSoup(html_doc, 'html.parser')"
   ]
  },
  {
   "cell_type": "code",
   "execution_count": 3,
   "id": "bc5a0a69",
   "metadata": {},
   "outputs": [],
   "source": [
    "divs = soup.find_all('div', 'i')"
   ]
  },
  {
   "cell_type": "code",
   "execution_count": 7,
   "id": "7068e590",
   "metadata": {},
   "outputs": [
    {
     "data": {
      "text/plain": [
       "bs4.element.Tag"
      ]
     },
     "execution_count": 7,
     "metadata": {},
     "output_type": "execute_result"
    }
   ],
   "source": [
    "type(divs[1])"
   ]
  },
  {
   "cell_type": "code",
   "execution_count": 9,
   "id": "36540a72",
   "metadata": {},
   "outputs": [],
   "source": [
    "states = divs[1]('a')"
   ]
  },
  {
   "cell_type": "code",
   "execution_count": 16,
   "id": "5c124f99",
   "metadata": {},
   "outputs": [
    {
     "name": "stdout",
     "output_type": "stream",
     "text": [
      "<class 'str'>\n"
     ]
    }
   ],
   "source": [
    "state_list = []\n",
    "for state in states[:50]:\n",
    "    state_list.append(state.get('href'))\n",
    "print(type(state_list[0]))"
   ]
  },
  {
   "cell_type": "code",
   "execution_count": 24,
   "id": "255fb7d3",
   "metadata": {},
   "outputs": [],
   "source": [
    "state_html = 'northcarolina.html'\n",
    "base_url = 'https://www.indoorclimbing.com/'\n",
    "html_request = requests.get(base_url+state_html)\n",
    "soup = BeautifulSoup(html_request.text, 'html.parser')\n",
    "climbmax = soup('p')[0]"
   ]
  },
  {
   "cell_type": "code",
   "execution_count": 25,
   "id": "93d6672c",
   "metadata": {},
   "outputs": [
    {
     "name": "stdout",
     "output_type": "stream",
     "text": [
      "['ClimbMax Inc.', '43 Wall St., Asheville, North Carolina 28801', '(828) 252-9996', 'ClimbMax Inc.', \"Indoor climbing and bouldering, including cave and free-standing boulder. Outdoor climbing on our 40' competition wall, fully leadable & auto belay.\"]\n"
     ]
    }
   ],
   "source": [
    "print(climbmax.get_text(strip=True, separator='\\n').splitlines())"
   ]
  },
  {
   "cell_type": "code",
   "execution_count": 27,
   "id": "495e1d9d",
   "metadata": {},
   "outputs": [],
   "source": [
    "gyms = soup('p')"
   ]
  },
  {
   "cell_type": "code",
   "execution_count": 28,
   "id": "8a9c0e96",
   "metadata": {},
   "outputs": [
    {
     "name": "stdout",
     "output_type": "stream",
     "text": [
      "[('ClimbMax Inc.', '43 Wall St., Asheville, North Carolina 28801', '(828) 252-9996'), ('Brevard Rock Gym', '240B South Broad Street, Brevard, North Carolina 28712', '(828) 884-ROCK (7625)'), ('Community Center (Chapel Hill Parks & Rec)', '102 South Estes Drive, Chapel Hill, North Carolina 27516', '(919) 968-2790'), ('Progression Climbing Gym', '1713 Legion Rd, Chapel Hill, North Carolina 27517', '919-904-7217'), ('Inner Peaks Climbing Center - South End', '2220 S. Tryon St., Charlotte, NC', '(980) 242-3244'), ('Davidson Outdoors Climbing Gym', '2003 Davidson College, Davidson, North Carolina 28036', '(704) 894-2000'), ('Triangle Rock Club - Durham', '1010 Martin Luther King Jr Pkwy, Durham, NC', '919.981.7441'), ('The Climbing Place', '436 West Russell St., Fayetteville, North Carolina 28301', '910-486-9638'), ('Triangle Rock Club â\\x80\\x93 Fayetteville', '5213 Raeford Rd, Fayetteville, North Carolina', '(910) 868-7625'), ('Rock Solid Warrior', '6109 NC 55, Fuquay Varina, NC 27526', '9193077448'), (\"The Edge UNCG's Indoor Climbing\", '412 Student Recreation Center, Greensboro, North Carolina (336) 334 5924', '(336) 334 5924'), ('The Ultimate Climbing Gym', '6904 Downwind Road; Rear Entrance, Greensboro, NC 27409', '336-550-4107'), ('ECU Indoor Climbing Gym', '128 Student Recreation Center, Greenville, North Carolina 27858-4353', '(252) 328-6387'), ('Inner Peaks Climbing Center - Matthews', '10715 Independence Pointe Pkwy, Matthews, NC 28105', '(704) 844-6677'), ('Cliff HangersClimbing', '326 Oates Road, Mooresville, NC', '980-444-2650'), ('Bigfoot Climbing Gym', '212 Avery Ave, Morganton, NC', '7045168700'), ('Triangle Rock Club', '102 Pheasant Wood Ct, Morrisville, North Carolina 27560', '(919) 463-ROCK'), ('Triangle Rock Club - North Raleigh', '6022 Duraleigh Road, Raleigh, North Carolina 27612', '919-803-5534'), ('Ruby C. Hunt YMCA Climbing Gym', '1322 Patrick Avenue, Shelby, North Carolina 28152', '(704) 434-0441'), ('Statesville Fitness and Aquatic Center', '1875 Simonton Road, Statesville, North Carolina 28625', '7048783944'), ('UNCW Climbing Gym', 'Student Rec Center - 601 S College Rd, Wilmington, North Carolina 28403', '(910) 962-7443'), ('Wilmington Rock Gym', '8118 Market Street, Wilmington, NC 28411', '910-319-7209'), ('Rock Box Bouldering', '1024 N Chestnut St, Winston-Salem, North Carolina', '336-747-3104')]\n"
     ]
    }
   ],
   "source": [
    "gym_list = []\n",
    "for gym in gyms:\n",
    "    gym_text = gym.get_text(strip=True, separator='\\n').splitlines()\n",
    "    name = gym_text[0]\n",
    "    address = gym_text[1]\n",
    "    phone = gym_text[2]\n",
    "    gym_list.append((name, address, phone))\n",
    "print(gym_list)"
   ]
  },
  {
   "cell_type": "code",
   "execution_count": 29,
   "id": "e425b7fe",
   "metadata": {},
   "outputs": [
    {
     "name": "stdout",
     "output_type": "stream",
     "text": [
      "['43 Wall St.', 'Asheville', 'North Carolina 28801']\n"
     ]
    }
   ],
   "source": [
    "climbmax = gym_list[0]\n",
    "address_string = climbmax[1]\n",
    "address_list = address_string.split(', ')\n",
    "print(address_list)"
   ]
  },
  {
   "cell_type": "code",
   "execution_count": 13,
   "id": "de7405fb",
   "metadata": {},
   "outputs": [],
   "source": [
    "address = \"10931 O Malley Centre, Anchorage, Alaska\""
   ]
  },
  {
   "cell_type": "code",
   "execution_count": 15,
   "id": "90bada2d",
   "metadata": {},
   "outputs": [],
   "source": [
    "from geopy.geocoders import Nominatim\n",
    "geolocator = Nominatim(user_agent='climbr')\n",
    "location = geolocator.geocode(address)"
   ]
  },
  {
   "cell_type": "code",
   "execution_count": 16,
   "id": "1fd5cf5c",
   "metadata": {},
   "outputs": [
    {
     "name": "stdout",
     "output_type": "stream",
     "text": [
      "<geopy.geocoders.nominatim.Nominatim object at 0x106025360>\n"
     ]
    }
   ],
   "source": [
    "print(geolocator)"
   ]
  },
  {
   "cell_type": "code",
   "execution_count": null,
   "id": "2ddcdeaa",
   "metadata": {},
   "outputs": [],
   "source": []
  }
 ],
 "metadata": {
  "kernelspec": {
   "display_name": "climbr",
   "language": "python",
   "name": "climbr"
  },
  "language_info": {
   "codemirror_mode": {
    "name": "ipython",
    "version": 3
   },
   "file_extension": ".py",
   "mimetype": "text/x-python",
   "name": "python",
   "nbconvert_exporter": "python",
   "pygments_lexer": "ipython3",
   "version": "3.10.1"
  }
 },
 "nbformat": 4,
 "nbformat_minor": 5
}
